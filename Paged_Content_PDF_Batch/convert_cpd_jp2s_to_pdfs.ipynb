{
 "cells": [
  {
   "cell_type": "code",
   "execution_count": null,
   "metadata": {
    "collapsed": true
   },
   "outputs": [],
   "source": [
    "import os\n",
    "import glob\n",
    "import subprocess\n",
    "import shutil\n",
    "from lxml import etree as ET"
   ]
  },
  {
   "cell_type": "code",
   "execution_count": null,
   "metadata": {},
   "outputs": [],
   "source": [
    "# this function would be better using tesseract to pdf, instead of img2pdf\n",
    "\n",
    "def parse_a_structure_etree(source_folder, structure_etree):\n",
    "    parent_pointer = os.path.split(source_folder)[1]\n",
    "    collection_name = os.path.split(os.path.split(source_folder)[0])[1]\n",
    "    if structure_etree.find('type').text == 'Monograph':\n",
    "        print('monograph types are not supported: {}'.format(source_folder))\n",
    "        return\n",
    "    pointer_order = (i.find('pageptr').text for i in structure_etree.findall('page'))\n",
    "    dest_path = '/media/francis/PNYusb3/cpd_to_pdfs/{}'.format(collection_name)\n",
    "    os.makedirs(dest_path, exist_ok=True)\n",
    "    \n",
    "    source_mods = os.path.join(source_folder, 'MODS.xml')\n",
    "    shutil.copy2(source_mods, os.path.join(dest_path, '{}.xml'.format(parent_pointer)))\n",
    "    \n",
    "    \n",
    "    bash_script = ['img2pdf', '--output', os.path.join(dest_path, '{}.pdf'.format(parent_pointer))]\n",
    "    bash_script.extend(os.path.join(source_folder, i,  \"OBJ.jp2\") for i in pointer_order)\n",
    "    bash_execution = subprocess.run(bash_script)\n",
    "    if bash_execution.returncode != 0:\n",
    "        print('error in running img2pdf: \\n{}'.format(bash_execution))"
   ]
  },
  {
   "cell_type": "code",
   "execution_count": null,
   "metadata": {},
   "outputs": [],
   "source": [
    "parent_objects = set()\n",
    "\n",
    "source_dir = '/home/francis/Desktop/lsu_git/islandora_ansible/UploadToIslandora/lsu-p16313coll31-cpd'\n",
    "\n",
    "for root, dirs, files in os.walk(source_dir):\n",
    "    if not dirs:\n",
    "        continue\n",
    "    if not os.path.split(root)[1].isnumeric():\n",
    "        continue\n",
    "    else:\n",
    "        parent_objects.add(os.path.split(root)[1])\n",
    "        \n",
    "for root, dirs, files in os.walk(source_dir):\n",
    "    this_parent = os.path.split(root)[1]\n",
    "    if this_parent in parent_objects:\n",
    "        structure_etree = ET.parse(os.path.join(root, 'structure.cpd'))\n",
    "        parse_a_structure_etree(root, structure_etree)"
   ]
  },
  {
   "cell_type": "code",
   "execution_count": null,
   "metadata": {},
   "outputs": [],
   "source": [
    "pdfs_dir = '/media/francis/PNYusb3/cpd_to_pdfs/lsu-p16313coll31-cpd/'\n",
    "for root, dirs, files in os.walk(pdfs_dir):\n",
    "    pointers_set = set(i.split('.')[0] for i in files)\n",
    "    dest_dir = pdfs_dir.replace('cpd_to_pdfs', 'cpd_to_pdfs/zips')\n",
    "    os.makedirs(dest_dir, exist_ok=True)\n",
    "    for pointer in pointers_set:\n",
    "\n",
    "        bash_command = ['zip',\n",
    "                        '-0',\n",
    "                        os.path.join(dest_dir, '{}.zip'.format(pointer))]\n",
    "        bash_command.extend(glob.glob(os.path.join(root, '{}.*'.format(pointer))))\n",
    "        print(' '.join(bash_command))\n",
    "        print(subprocess.run(bash_command))"
   ]
  },
  {
   "cell_type": "code",
   "execution_count": null,
   "metadata": {
    "collapsed": true
   },
   "outputs": [],
   "source": []
  }
 ],
 "metadata": {
  "kernelspec": {
   "display_name": "Python 3",
   "language": "python",
   "name": "python3"
  },
  "language_info": {
   "codemirror_mode": {
    "name": "ipython",
    "version": 3
   },
   "file_extension": ".py",
   "mimetype": "text/x-python",
   "name": "python",
   "nbconvert_exporter": "python",
   "pygments_lexer": "ipython3",
   "version": "3.6.1"
  }
 },
 "nbformat": 4,
 "nbformat_minor": 2
}
